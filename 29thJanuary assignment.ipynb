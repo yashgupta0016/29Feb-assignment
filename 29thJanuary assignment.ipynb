{
 "cells": [
  {
   "cell_type": "code",
   "execution_count": 1,
   "id": "45f41e41",
   "metadata": {},
   "outputs": [],
   "source": [
    "# 1. Who developed Python Programming Language?\n",
    "\n",
    "#       Python was created by Guido van Rossum"
   ]
  },
  {
   "cell_type": "code",
   "execution_count": 2,
   "id": "1e7bd5d5",
   "metadata": {},
   "outputs": [],
   "source": [
    "# 2. Which type of Programming does Python support?\n",
    "\n",
    "#       Python is a programming language which supports object-oriented, structured, and functional programming"
   ]
  },
  {
   "cell_type": "code",
   "execution_count": 3,
   "id": "fd5fe889",
   "metadata": {},
   "outputs": [],
   "source": [
    "# 3. Is Python case sensitive when dealing with identifiers?\n",
    "\n",
    "#       Yes, it is case sensitive while dealing with identifiers."
   ]
  },
  {
   "cell_type": "code",
   "execution_count": 4,
   "id": "fadff01a",
   "metadata": {},
   "outputs": [],
   "source": [
    "# 4. What is the correct extension of the Python file?\n",
    "\n",
    "#      ‘.py’ is the correct extension of the Python file."
   ]
  },
  {
   "cell_type": "code",
   "execution_count": 5,
   "id": "518b16e6",
   "metadata": {},
   "outputs": [],
   "source": [
    "# 5. Is Python code compiled or interpreted?\n",
    "\n",
    "#        Python code is both compiled and interpreted"
   ]
  },
  {
   "cell_type": "code",
   "execution_count": 6,
   "id": "d7bd9008",
   "metadata": {},
   "outputs": [],
   "source": [
    "# 6. Name a few block of code used to define in python language?\n",
    "\n",
    "#        THere are following blocks are : a module, a function body, and a class definition.\n",
    "#        while to define a block of code, we use indentation"
   ]
  },
  {
   "cell_type": "code",
   "execution_count": 7,
   "id": "a8fe1b62",
   "metadata": {},
   "outputs": [],
   "source": [
    "# 7. State a character is used to give single-line comments in Python?\n",
    "\n",
    "#        To write single-line comments, we use the Hash character (#) at the beginning of the line. "
   ]
  },
  {
   "cell_type": "code",
   "execution_count": 8,
   "id": "62a1f936",
   "metadata": {},
   "outputs": [],
   "source": [
    "# 8. Mention the functions which can help us to find the version of python that we are currently working on?\n",
    "\n",
    "#       sys.version function used to find the version of python that we are currently working on."
   ]
  },
  {
   "cell_type": "code",
   "execution_count": 9,
   "id": "35013842",
   "metadata": {},
   "outputs": [],
   "source": [
    "# 9. Python supports the creation of anonymous functions at runtime, using a construct called\n",
    "\n",
    "#       lambda functionWhat is the maximum possible length of an identifier in Python?"
   ]
  },
  {
   "cell_type": "code",
   "execution_count": 10,
   "id": "f370790e",
   "metadata": {},
   "outputs": [],
   "source": [
    "# 10. What does pip stand for python?\n",
    "\n",
    "#       pip stands for Preferred Installer Program"
   ]
  },
  {
   "cell_type": "code",
   "execution_count": 11,
   "id": "2d9b4042",
   "metadata": {},
   "outputs": [],
   "source": [
    "# 11. Mention a few built-in function in python?\n",
    "\n",
    "#       len(), map(), filter(), next(), len(),print() are some in-built function"
   ]
  },
  {
   "cell_type": "code",
   "execution_count": 12,
   "id": "2a7989f9",
   "metadata": {},
   "outputs": [],
   "source": [
    "# 12. What is the maximum possible length of an identifier ? \n",
    "\n",
    "#        Identifiers can be of any length."
   ]
  },
  {
   "cell_type": "code",
   "execution_count": 13,
   "id": "6ee096c0",
   "metadata": {},
   "outputs": [],
   "source": [
    "# 13. What are the benefits of using python?\n",
    "\n",
    "# 1. Extensive libraries= It offers wide range of libraries that can be used across various applications.\n",
    "#                         Instead of writing every piece of code from scratch, we can use libraries, \n",
    "#                         which contain many pre-written functions and classes\n",
    "#                         Ex- Numpy,Scipy, Pandas and so on.\n",
    "\n",
    "# 2.Write less, do more=  Python has very concise syntax. This is noticeably true even when compared to \n",
    "#                         other high-level programming languages, such as Java.Python’s simple syntax, \n",
    "#                         combined with its large set of libraries, help us do more with less lines of code.\n",
    "        \n",
    "# 3. Portability       =  Portability is another one of Python’s strengths. \n",
    "#                         Portability refers to an application’s ability to run across various operating systems (OS).\n",
    "#                         we can run our Python program across Windows, Mac OS, and Linux without modifying the program code. \n",
    "        \n",
    "# 4. Wide range of use case = The Python programming language has various use cases in many growing fields, including:\n",
    "#                                         Data science\n",
    "#                                         Machine learning\n",
    "#                                         Statistics\n",
    "#                                         Cybersecurity\n",
    "#                                         Game developmen\n",
    "    \n",
    "    \n",
    "\n",
    "    \n",
    "    \n",
    "\n",
    "\n",
    "    \n",
    "\n",
    "        \n"
   ]
  },
  {
   "cell_type": "code",
   "execution_count": 14,
   "id": "906bf821",
   "metadata": {},
   "outputs": [],
   "source": [
    "# 14. How is memory managed in python  \n",
    "#     In Python, memory management is primarily handled by the Python interpreter and the underlying memory manager. \n",
    "#     The main component responsible for memory management in Python is the garbage collector.\n",
    "#     python Memory Manager is responsible to manage memory allocation \n",
    "#     and deallocation to various processes that are under execution in python."
   ]
  },
  {
   "cell_type": "code",
   "execution_count": 15,
   "id": "07018be9",
   "metadata": {},
   "outputs": [],
   "source": [
    "# To install Python on Windows and set the necessary path variables, you can follow these steps:\n",
    "\n",
    "# 1. Download Python: Visit the official Python website and \n",
    "#                     download the latest stable version of Python for Windows. \n",
    "#                     Choose the appropriate installer based on your system architecture (32-bit or 64-bit).\n",
    "\n",
    "# 2. Run the Installer: Once the installer is downloaded, double-click on it to run it.\n",
    "#                       we may see an option to \"Add Python to PATH\" during the installation. \n",
    "#                       Make sure to check this option to automatically set the path variables.\n",
    "                     \n",
    "# 3. Customize Installation (Optional): The installer provides options for customizing the installation. \n",
    "#                                       We can choose the installation location, additional components, and features.                 \n",
    "\n",
    "# 4. Complete the Installation: Follow the prompts and complete the installation process. \n",
    "#                               It's recommended to select the \"Install launcher for all users\" and \"Add Python to PATH\" options\n",
    "#                               if available.\n",
    "\n",
    "# 5. Verify the Installation: Open the Command Prompt by pressing Win + R, typing \"cmd,\" and pressing Enter. \n",
    "#                             In the Command Prompt window, type python --version and press Enter. \n",
    "#                             We should see the installed Python version printed on the screen.\n",
    "\n",
    "# 6. Set Environment Variables (If not set during installation): If we didn't select the \"Add Python to PATH\" option\n",
    "#                                                                during installation,we need to set the path variables manually.\n",
    "        \n",
    "#         To set path variables, follow these steps:\n",
    "\n",
    "# a: Open the Control Panel and navigate to System and Security > System > Advanced system settings.\n",
    "# b: Click on the \"Environment Variables\" button.\n",
    "# c: In the \"System Variables\" section, scroll down and find the \"Path\" variable. Select it and click the \"Edit\" button.\n",
    "# d: Add the path to the Python installation directory.\n",
    "# e: Click \"OK\" to save the changes."
   ]
  },
  {
   "cell_type": "code",
   "execution_count": null,
   "id": "9c5e5077",
   "metadata": {},
   "outputs": [],
   "source": [
    "# 16. Is indentation required in python?\n",
    "\n",
    "# Yes, it is required."
   ]
  }
 ],
 "metadata": {
  "kernelspec": {
   "display_name": "Python 3 (ipykernel)",
   "language": "python",
   "name": "python3"
  },
  "language_info": {
   "codemirror_mode": {
    "name": "ipython",
    "version": 3
   },
   "file_extension": ".py",
   "mimetype": "text/x-python",
   "name": "python",
   "nbconvert_exporter": "python",
   "pygments_lexer": "ipython3",
   "version": "3.9.13"
  }
 },
 "nbformat": 4,
 "nbformat_minor": 5
}
